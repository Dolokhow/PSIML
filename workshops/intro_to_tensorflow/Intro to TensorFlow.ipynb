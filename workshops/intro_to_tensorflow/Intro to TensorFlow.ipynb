{
 "cells": [
  {
   "cell_type": "markdown",
   "metadata": {},
   "source": [
    "# Intro to TensorFlow\n",
    "MDCS:ML\n",
    "***\n",
    "\n",
    "## Overview:\n",
    "* [About TensorFlow](#About-TensorFlow)\n",
    "    * [Installation](#Installation)\n",
    "* [Computational graph](#Computational-graph)\n",
    "    * [TensorBoard](#TensorBoard)\n",
    "    * [Tensors](#Tensors)\n",
    "* [Execution](#Execution)\n",
    "* [Variables](#Variables)\n",
    "* [Placeholders](#Placeholders)\n",
    "* [Saving and restoring models](#Saving-and-restoring-models)\n",
    "* [Useful links](#Useful-links)\n",
    "***"
   ]
  },
  {
   "cell_type": "markdown",
   "metadata": {},
   "source": [
    "## About TensorFlow\n",
    "\n",
    "TensorFlow is a framework developed by Google Brain, used for Machine Learning.  \n",
    "Can be used on CPU and GPU.  \n",
    "High level APIs built on top of TensorFlow for building Neural Network models (Keras).  \n",
    "For the future workshops we'll use low level TensorFlow, for better understending of implementation.\n",
    "\n",
    "It's composed of:\n",
    "  * Library – for defining computational graphs\n",
    "  * Runtime – for executing them\n",
    "***"
   ]
  },
  {
   "cell_type": "markdown",
   "metadata": {},
   "source": [
    "### Installation\n",
    "\n",
    "Assuming you have followed [setup for Numpy basics and Logistic Regression](https://msft.spoppe.com/:w:/t/mdcs/ESyb9JX7CcVIswGs0SftSMoBinWaEDKpn9n0qODsO77_Zw?rtime=Q9sF5npg1kg).\n",
    "\n",
    "Activate your conda enviroment, and run:  \n",
    "```pip install tensorflow```\n",
    "\n",
    "If your machine has GPU:  \n",
    "```pip install tensorflow-gpu```\n",
    "***"
   ]
  },
  {
   "cell_type": "markdown",
   "metadata": {},
   "source": [
    "## Computational graph\n",
    "\n",
    "Describing computations as directed graph, with:\n",
    "  * Edges - Tensors (represent values that will flow through graph)\n",
    "  * Nodes - Operations (describe calculations that consume and produce tensors)\n",
    "  \n",
    "Example:  \n",
    "![computational graph](./resources/computational_graph.jpg)\n",
    "  \n",
    "\n",
    "We're defining **dependency** of operations instead of **order**.  \n",
    "Parts of graph that are not dependent of eachother can be ran in parallel.\n",
    "\n",
    "Example in TensorFlow:"
   ]
  },
  {
   "cell_type": "code",
   "execution_count": null,
   "metadata": {},
   "outputs": [],
   "source": [
    "import numpy as np\n",
    "import tensorflow as tf\n",
    "import os"
   ]
  },
  {
   "cell_type": "code",
   "execution_count": null,
   "metadata": {},
   "outputs": [],
   "source": [
    "a = tf.constant(3.0)\n",
    "b = tf.constant(4.0)\n",
    "c = tf.add(a, b)\n",
    "d = a * b\n",
    "e = d - c"
   ]
  },
  {
   "cell_type": "markdown",
   "metadata": {},
   "source": [
    "We are creating graph as ```tf.Graph```.\n",
    "When building graph, operations are just defined, not executed, and tensors don't hold any values yet."
   ]
  },
  {
   "cell_type": "code",
   "execution_count": null,
   "metadata": {
    "scrolled": true
   },
   "outputs": [],
   "source": [
    "print(a)\n",
    "print(c)\n",
    "print(e)"
   ]
  },
  {
   "cell_type": "markdown",
   "metadata": {},
   "source": [
    "***\n",
    "### TensorBoard\n",
    "\n",
    "Visualization [tool](https://www.tensorflow.org/guide/summaries_and_tensorboard) for TensorFlow.  \n",
    "Should be installed with TensorFlow, if not just run ```pip install tensorboard``` in your conda enviroment.  \n",
    "You can use TensorBoard to visualize graph, plot metrics, and show additional data like images.  \n",
    "\n",
    "We are going to save our graph:"
   ]
  },
  {
   "cell_type": "code",
   "execution_count": null,
   "metadata": {},
   "outputs": [],
   "source": [
    "# Directory where we'll save logs\n",
    "log_dir = './logs/'\n",
    "\n",
    "# Saving the computation graph to a TensorBoard summary file\n",
    "writer = tf.summary.FileWriter(os.path.join(log_dir, 'graph_example'))\n",
    "writer.add_graph(tf.get_default_graph())\n",
    "writer.flush()"
   ]
  },
  {
   "cell_type": "markdown",
   "metadata": {},
   "source": [
    "In a new terminal (with your conda enviroment activated) run:  \n",
    "```tensorboard --logdir logs```  \n",
    "and open link from the terminal (usually localhost:6006).\n",
    "***"
   ]
  },
  {
   "cell_type": "markdown",
   "metadata": {},
   "source": [
    "### Tensors\n",
    "\n",
    "```python\n",
    "tf.Tensor\n",
    "```\n",
    "Describes a set of primitive values shaped into an array of any number of dimensions.\n",
    "Tensor has:\n",
    "  * Rank – number of dimensions\n",
    "  * Shape - a tuple of integers specifying the array's length along each dimension\n",
    "```python\n",
    "[[[1., 2., 3.]], [[7., 8., 9.]]] # a rank 3 tensor with shape [2, 1, 3]\n",
    "```\n",
    "Shape can be infered when building graph, without having any actual values."
   ]
  },
  {
   "cell_type": "code",
   "execution_count": null,
   "metadata": {},
   "outputs": [],
   "source": [
    "# Keeping the graph we built before we reset it\n",
    "old_graph = tf.get_default_graph()\n",
    "# Clears the default graph stack and resets the global default graph\n",
    "tf.reset_default_graph()"
   ]
  },
  {
   "cell_type": "code",
   "execution_count": null,
   "metadata": {},
   "outputs": [],
   "source": [
    "x = tf.zeros((5, 10))\n",
    "y = tf.ones((2, 10))\n",
    "z = tf.concat([x, y], axis=0)\n",
    "_ = tf.print(z)"
   ]
  },
  {
   "cell_type": "code",
   "execution_count": null,
   "metadata": {},
   "outputs": [],
   "source": [
    "# Saving the computation graph to a TensorBoard summary file\n",
    "writer = tf.summary.FileWriter(os.path.join(log_dir, 'tensor_shape_example'))\n",
    "writer.add_graph(tf.get_default_graph())\n",
    "writer.flush()"
   ]
  },
  {
   "cell_type": "markdown",
   "metadata": {},
   "source": [
    "You might need no refresh TensorBoard in your browser to see new graph.\n",
    "***"
   ]
  },
  {
   "cell_type": "markdown",
   "metadata": {},
   "source": [
    "## Execution\n",
    "\n",
    "Now that we have defined our ```tf.Graph``` we can execute it by using ```tf.Session```.\n",
    "\n",
    "```tf.Session``` is a class that represents a connection with runtime.\n",
    "It owns physical resources so it's important to close the session after we're done with the execution.\n",
    "\n",
    "```python\n",
    "session.run(tensor) # evaluates tensor, and returns it's value\n",
    "session.run([t1, t2, ...]) # evaluates all given tensors, and returns their values\n",
    "```\n",
    "It executes minimal part of graph to evaluate given tensors (only nodes that the tensors depend of)."
   ]
  },
  {
   "cell_type": "code",
   "execution_count": null,
   "metadata": {},
   "outputs": [],
   "source": [
    "with tf.Session(graph=old_graph) as sess:\n",
    "    print(sess.run(e))\n",
    "    out_c, out_d = sess.run([c, d])\n",
    "    print(\"Evaluated c: {}\".format(out_c))\n",
    "    print(\"Evaluated d: {}\".format(out_d))"
   ]
  },
  {
   "cell_type": "code",
   "execution_count": null,
   "metadata": {},
   "outputs": [],
   "source": [
    "with tf.Session() as sess:\n",
    "    print(\"Evaluated x: {}\".format(sess.run(x)))"
   ]
  },
  {
   "cell_type": "markdown",
   "metadata": {},
   "source": [
    "You can check out TensorFlow's guide [Graphs and Sessions](https://www.tensorflow.org/guide/graphs) for more details.\n",
    "***"
   ]
  },
  {
   "cell_type": "markdown",
   "metadata": {},
   "source": [
    "## Variables\n",
    "\n",
    "```python\n",
    "tf.Variable\n",
    "```\n",
    "Variable represents a tensor whose value can be changed by running ops on it.  \n",
    "They enable learning by perserving state across executions of the graph (they exist outside the context of a single ```session.run``` call).  \n",
    "\n",
    "All trainable parameters are variables.\n",
    "\n",
    "Varable is defined by:\n",
    "  * Name\n",
    "  * Type\n",
    "  * Shape\n",
    "  * Initializer\n",
    "  \n",
    "The best way to create a variable is to call the ```tf.get_variable``` function that requires variables name, other parameters are optional.\n",
    "It gets an existing variable with these parameters or creates a new one."
   ]
  },
  {
   "cell_type": "code",
   "execution_count": null,
   "metadata": {},
   "outputs": [],
   "source": [
    "with old_graph.as_default():\n",
    "    v = tf.get_variable(\"my_var\", dtype=tf.float32, shape=[], initializer=tf.random_normal_initializer)"
   ]
  },
  {
   "cell_type": "markdown",
   "metadata": {},
   "source": [
    "Before you can use a variable, it must be initialized.  \n",
    "You can use ```tf.global_variables_initializer()``` to initialize all trainable variables.\n",
    "\n",
    "All variables will be created as trainable, if you want to create non-trainable variables check out TensorFlow's [Variable collections](https://www.tensorflow.org/guide/variables#variable_collections) guide."
   ]
  },
  {
   "cell_type": "code",
   "execution_count": null,
   "metadata": {},
   "outputs": [],
   "source": [
    "with tf.Session(graph=old_graph) as sess:\n",
    "    sess.run(tf.global_variables_initializer())\n",
    "    print(sess.run(v))"
   ]
  },
  {
   "cell_type": "markdown",
   "metadata": {},
   "source": [
    "Variables can be read and assigned:"
   ]
  },
  {
   "cell_type": "code",
   "execution_count": null,
   "metadata": {},
   "outputs": [],
   "source": [
    "with old_graph.as_default():\n",
    "    v2 = tf.get_variable(\"assigned_var\", dtype=tf.float32, shape=[1,3], initializer=tf.zeros_initializer)\n",
    "    inc_v2 = v2.assign(v2 + 1)\n",
    "    init = tf.global_variables_initializer()"
   ]
  },
  {
   "cell_type": "code",
   "execution_count": null,
   "metadata": {},
   "outputs": [],
   "source": [
    "var_sess = tf.Session(graph=old_graph)\n",
    "var_sess.run(init)\n",
    "print(var_sess.run(v))\n",
    "print(var_sess.run(v2))\n",
    "var_sess.run(inc_v2)\n",
    "print(var_sess.run(v2))\n",
    "var_sess.run(inc_v2)\n",
    "print(var_sess.run(v2))\n",
    "print(var_sess.run([inc_v2, v2]))\n",
    "print(var_sess.run([v2, inc_v2])) # minimal part of graph is executed and then all values are returned"
   ]
  },
  {
   "cell_type": "markdown",
   "metadata": {},
   "source": [
    "Note that variable exists and perseves value withing one ```tf.Session```, so you want to run the same session for the training.  \n",
    "We can see our variables in the graph now:"
   ]
  },
  {
   "cell_type": "code",
   "execution_count": null,
   "metadata": {},
   "outputs": [],
   "source": [
    "with old_graph.as_default():\n",
    "    f = tf.add(e, v)\n",
    "# Saving the computation graph to a TensorBoard summary file\n",
    "writer = tf.summary.FileWriter(os.path.join(log_dir, 'variables_example'))\n",
    "writer.add_graph(old_graph)\n",
    "writer.flush()"
   ]
  },
  {
   "cell_type": "markdown",
   "metadata": {},
   "source": [
    "TensorFlow's guide: [Variables](https://www.tensorflow.org/guide/variables).\n",
    "***"
   ]
  },
  {
   "cell_type": "markdown",
   "metadata": {},
   "source": [
    "## Placeholders\n",
    "\n",
    "```python\n",
    "tf.placeholder\n",
    "```\n",
    "A placeholder for tensor that will be fed in the execution.  \n",
    "Can be used to add data in execution, instead of loading all data as constant for example.\n",
    "\n",
    "In ```session.run``` you need to feed all placeholders that evaluated tensors depend on."
   ]
  },
  {
   "cell_type": "code",
   "execution_count": null,
   "metadata": {},
   "outputs": [],
   "source": [
    "tf.reset_default_graph()\n",
    "p1 = tf.placeholder(tf.float32, shape=[3,3])\n",
    "p2 = tf.placeholder(tf.float32, shape=[3,3])\n",
    "r1 = tf.add(p1, p2)\n",
    "r2 = tf.add(p1, p1)"
   ]
  },
  {
   "cell_type": "code",
   "execution_count": null,
   "metadata": {},
   "outputs": [],
   "source": [
    "ones = np.ones((3,3))\n",
    "twos = ones * 2\n",
    "with tf.Session() as sess:\n",
    "    print(sess.run(r1, feed_dict={p1: ones, p2: twos}))\n",
    "    print(sess.run(r2, feed_dict={p1: twos}))"
   ]
  },
  {
   "cell_type": "markdown",
   "metadata": {},
   "source": [
    "And if we don't feed the placeholder:"
   ]
  },
  {
   "cell_type": "code",
   "execution_count": null,
   "metadata": {},
   "outputs": [],
   "source": [
    "with tf.Session() as sess:\n",
    "    print(sess.run(r2)) # breaks"
   ]
  },
  {
   "cell_type": "markdown",
   "metadata": {},
   "source": [
    "You can pass data as numpy arrays to placeholders, and handle everything else from python.  \n",
    "TensorFlow also provides built in functionalities for working with data (you can check out [tf.data](https://www.tensorflow.org/guide/datasets_for_estimators)).\n",
    "***"
   ]
  },
  {
   "cell_type": "markdown",
   "metadata": {},
   "source": [
    "## Saving and restoring models\n",
    "\n",
    "As part of training you can update variables in your graph, but they only exist within one session.  \n",
    "To save values of your variables, you can use ```tf.train.Saver()```:"
   ]
  },
  {
   "cell_type": "code",
   "execution_count": null,
   "metadata": {},
   "outputs": [],
   "source": [
    "with old_graph.as_default():\n",
    "    saver = tf.train.Saver()\n",
    "\n",
    "# Directory where we'll save models\n",
    "models_dir = './models/'\n",
    "model1_path = os.path.join(models_dir, 'model1.ckpt')\n",
    "\n",
    "_ = saver.save(var_sess, model1_path)"
   ]
  },
  {
   "cell_type": "markdown",
   "metadata": {},
   "source": [
    "Now we can restore saved model to a new session:"
   ]
  },
  {
   "cell_type": "code",
   "execution_count": null,
   "metadata": {},
   "outputs": [],
   "source": [
    "with tf.Session(graph=old_graph) as new_sess:\n",
    "    new_sess.run(init)\n",
    "    print(new_sess.run(v))\n",
    "    print(new_sess.run(v2))\n",
    "    saver.restore(new_sess, model1_path)\n",
    "    print(new_sess.run(v))\n",
    "    print(new_sess.run(v2))"
   ]
  },
  {
   "cell_type": "markdown",
   "metadata": {},
   "source": [
    "Saver will restore values to variables of the same name and shape, which means that not all variables from the saved model need to be restored.  \n",
    "If you have some variables in current graph that do not exist in saved model, you need to specify which variables are restored, and initialize those that are not being restored."
   ]
  },
  {
   "cell_type": "code",
   "execution_count": null,
   "metadata": {},
   "outputs": [],
   "source": [
    "new_graph = tf.Graph()\n",
    "with new_graph.as_default():\n",
    "    var1 = tf.get_variable(\"my_var\", shape=[])\n",
    "    var2 = tf.get_variable(\"new_var\", shape=[], initializer=tf.zeros_initializer)\n",
    "    mul_vars = var1 * var2\n",
    "    \n",
    "    new_saver = tf.train.Saver({\"my_var\" : var1})"
   ]
  },
  {
   "cell_type": "code",
   "execution_count": null,
   "metadata": {},
   "outputs": [],
   "source": [
    "with tf.Session(graph=new_graph) as sess:\n",
    "#     var2.initializer.run() # uncomment to initialize\n",
    "    new_saver.restore(sess, model1_path)\n",
    "    print(sess.run(var1))\n",
    "    print(sess.run(var2)) # not restored and never initialized"
   ]
  },
  {
   "cell_type": "markdown",
   "metadata": {},
   "source": [
    "TensorFlow's guide [Save and Restore](https://www.tensorflow.org/guide/saved_model).\n",
    "***"
   ]
  },
  {
   "cell_type": "markdown",
   "metadata": {},
   "source": [
    "## Useful links\n",
    "\n",
    "Beside above mentioned guides, here are some more resources you will find useful:\n",
    "* [tf.Optimizer](https://www.tensorflow.org/api_docs/python/tf/train/Optimizer) - TensorFlow provides automatic differentiation and different optimizers - gradiants for all variables in your graph are automatically computed and variables are updated.  \n",
    "* [Train your first neural network: basic classification](https://www.tensorflow.org/tutorials/keras/basic_classification) - TensorFlow's tutorial\n",
    "* [Introduction](https://www.tensorflow.org/guide/low_level_intro) - similar overview with more detailes\n",
    "    * example of optimizer use in [Training](https://www.tensorflow.org/guide/low_level_intro#training_2) section\n",
    "* [TensorFlow Playground](https://playground.tensorflow.org) - play with different parameters of a Neural Network and visualize training\n",
    "***"
   ]
  },
  {
   "cell_type": "markdown",
   "metadata": {},
   "source": [
    "#### We hope you found this intro helpful!\n",
    "#### Thanks!"
   ]
  }
 ],
 "metadata": {
  "kernelspec": {
   "display_name": "Python 3",
   "language": "python",
   "name": "python3"
  },
  "language_info": {
   "codemirror_mode": {
    "name": "ipython",
    "version": 3
   },
   "file_extension": ".py",
   "mimetype": "text/x-python",
   "name": "python",
   "nbconvert_exporter": "python",
   "pygments_lexer": "ipython3",
   "version": "3.6.5"
  }
 },
 "nbformat": 4,
 "nbformat_minor": 2
}
